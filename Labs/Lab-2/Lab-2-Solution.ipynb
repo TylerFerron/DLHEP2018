{
 "cells": [
  {
   "cell_type": "markdown",
   "metadata": {},
   "source": [
    "# Lab 2- Numpy\n",
    "\n",
    "Read through the following notebook to get an introduction to numpy: [Numpy Intro](jrjohansson-lectures/Lecture-2-Numpy.ipynb)"
   ]
  },
  {
   "cell_type": "markdown",
   "metadata": {},
   "source": [
    "## Exercise 2.1\n",
    "\n",
    "Let start with some basic reshape manipulations. Consider a classification task. We can imagine the training data X consisting of N examples each with M inputs, so the shape of X is (M,N). We usually express the output of the Neural Network, which for the training sample encodes the true class of each of the M examples in X, in a \"one-hot\" matrix of shape (N,C), where C is the number of classes and each row corresponds to the true class for the corresponding example in X. So for a given row Y[i], all elements are 0 except for the column corresponding to the true class.\n",
    "\n",
    "For example consider a classification task of separating between 4 classes. We'll call them A, B, C, and D.\n"
   ]
  },
  {
   "cell_type": "code",
   "execution_count": 1,
   "metadata": {},
   "outputs": [
    {
     "name": "stdout",
     "output_type": "stream",
     "text": [
      "Shape of Y: (4, 4)\n"
     ]
    }
   ],
   "source": [
    "import numpy as np\n",
    "\n",
    "Y=np.array( [ [0, 1, 0, 0], # Class B\n",
    "              [1, 0, 0, 0], # Class A\n",
    "              [0, 0, 1, 0], # Class C\n",
    "              [0, 0, 0, 1]  # Class D\n",
    "            ])\n",
    "\n",
    "print \"Shape of Y:\", Y.shape"
   ]
  },
  {
   "cell_type": "markdown",
   "metadata": {},
   "source": [
    "Lets imagine that we want to change to a 2 classes instead by combining classes A with B and C with D. Use np.reshape and np.sum to create a new vector Y1. Hint: change the shape of Y into (8,2), sum along the correct axes, and change shape to (4,2)."
   ]
  },
  {
   "cell_type": "code",
   "execution_count": 2,
   "metadata": {},
   "outputs": [
    {
     "name": "stdout",
     "output_type": "stream",
     "text": [
      "[array([1, 1, 0, 0]), array([0, 0, 1, 1])]\n"
     ]
    }
   ],
   "source": [
    "Y1= [np.sum([Y[0],Y[1]],axis=0),np.sum([Y[2],Y[3]], axis=0)]\n",
    "print Y1\n",
    "#Y2=[]\n",
    "#Y2.append(np.sum([Y1[0],Y1[1],Y1[2],Y1[3]], axis=0)) # Replace Y with operations on Y which result in the requested answer. \n",
    "#Y2.append(np.sum([Y1[4],Y1[5],Y1[6],Y1[7]], axis=0))\n",
    "\n",
    "#Y2"
   ]
  },
  {
   "cell_type": "markdown",
   "metadata": {},
   "source": [
    "## Exercise 2.2\n",
    "\n",
    "Oftentimes we find that neutral networks work best when their input is mostly between 0,1. Below, we create a random dataset that is normal distributed (mean of 4, sigma of 10). Shift the data so that the mean is 0.5 and 68% of the data lies between 0 and 1."
   ]
  },
  {
   "cell_type": "code",
   "execution_count": 26,
   "metadata": {},
   "outputs": [
    {
     "name": "stdout",
     "output_type": "stream",
     "text": [
      "4.04839887895\n",
      "-31.8381838729\n",
      "34.6035928947\n"
     ]
    }
   ],
   "source": [
    "X=np.random.normal(4,10,1000)\n",
    "print np.mean(X)\n",
    "print np.min(X)\n",
    "print np.max(X)"
   ]
  },
  {
   "cell_type": "code",
   "execution_count": 30,
   "metadata": {},
   "outputs": [
    {
     "name": "stdout",
     "output_type": "stream",
     "text": [
      "687\n",
      "0.502419943948\n",
      "-1.29190919365\n",
      "2.03017964473\n"
     ]
    }
   ],
   "source": [
    "import math\n",
    "\n",
    "X1=(X+6)/20\n",
    "\n",
    "Xmidcount=((0 < X1) & (X1 < 1)).sum()\n",
    "\n",
    "print Xmidcount\n",
    "print np.mean(X1)\n",
    "print np.min(X1)\n",
    "print np.max(X1)"
   ]
  },
  {
   "cell_type": "markdown",
   "metadata": {},
   "source": [
    "## Exercise 2.3\n",
    "\n",
    "Using np.random.random and np.random.normal to generate two datasets. Then use np.where to repeat exercise 1.4 showing that one creates a flat distribution and the other does not. "
   ]
  },
  {
   "cell_type": "code",
   "execution_count": 71,
   "metadata": {},
   "outputs": [
    {
     "name": "stdout",
     "output_type": "stream",
     "text": [
      "199.75\n",
      "250.0\n",
      "not flat\n"
     ]
    }
   ],
   "source": [
    "D1=np.random.random((1000,))\n",
    "#print np.mean(D1)\n",
    "#print np.min(D1)\n",
    "#print np.max(D1)\n",
    "\n",
    "D2=np.random.normal(0.5,0.1,1000)\n",
    "#print np.mean(D2)\n",
    "#print np.min(D2)\n",
    "#print np.max(D2)\n",
    "\n",
    "\n",
    "\n",
    "D1dist1 = ((0.4 < D1) & (D1 < 0.6)).sum()                                    #finds the number of data points in this range\n",
    "D1dist2 = ((0.3 < D1) & (D1 < 0.7)).sum() - ((0.4 < D1) & (D1 < 0.6)).sum()  #is repated for wider ranges while taking out the range rom the line above to keep the size of the range consistent\n",
    "D1dist3 = ((0.2 < D1) & (D1 < 0.8)).sum() - ((0.3 < D1) & (D1 < 0.7)).sum()\n",
    "D1dist4 = ((0.1 < D1) & (D1 < 0.9)).sum() - ((0.2 < D1) & (D1 < 0.8)).sum()\n",
    "\n",
    "D2dist1 = ((0.4 < D2) & (D2 < 0.6)).sum()\n",
    "D2dist2 = ((0.3 < D2) & (D2 < 0.7)).sum() - ((0.4 < D2) & (D2 < 0.6)).sum()\n",
    "D2dist3 = ((0.2 < D2) & (D2 < 0.8)).sum() - ((0.3 < D2) & (D2 < 0.7)).sum()\n",
    "D2dist4 = ((0.1 < D2) & (D2 < 0.9)).sum() - ((0.2 < D2) & (D2 < 0.8)).sum()\n",
    "\n",
    "D1set = [D1dist1,D1dist2,D1dist3,D1dist4] #Set of the amounts in each range of data\n",
    "D2set = [D2dist1,D2dist2,D2dist3,D2dist4]\n",
    "\n",
    "print np.mean(D1set)#D1set should have a mean of around 200 as the data is spread out evenly\n",
    "print np.mean(D2set)#D2set should not have a mean around 200 as the data is not evenly spread \n",
    "\n",
    "i=0\n",
    "\n",
    "if abs(np.mean(D1set)-np.mean(D2set)) < 0.05*np.mean(D1set): #tests if D2set is flat based on the assumption that D1set is flat\n",
    "    print \"flat\"\n",
    "else:\n",
    "    print \"not flat\"\n",
    "        \n",
    "    \n",
    "        \n"
   ]
  },
  {
   "cell_type": "markdown",
   "metadata": {},
   "source": [
    "## Exercise 2.4\n",
    "\n",
    "Now lets play with some real data. We will load a file of example Neutrino interactions in LArTPC detector. There are 2 read out planes in the detector with 240 wires each, sampled 4096 times. Shift the images in the same way as exercise 2.2."
   ]
  },
  {
   "cell_type": "code",
   "execution_count": 10,
   "metadata": {},
   "outputs": [
    {
     "name": "stdout",
     "output_type": "stream",
     "text": [
      "[u'Eng', u'Track_length', u'enu_truth', u'features', u'lep_mom_truth', u'mode_truth', u'pdg']\n",
      "(2500, 2, 240, 4096)\n"
     ]
    }
   ],
   "source": [
    "import h5py\n",
    "f=h5py.File(\"/data/LArIAT/h5_files/nue_CC_3-1469384613.h5\",\"r\")\n",
    "print f.keys()\n",
    "images=f[\"features\"]\n",
    "print images.shape"
   ]
  },
  {
   "cell_type": "code",
   "execution_count": 14,
   "metadata": {},
   "outputs": [
    {
     "name": "stdout",
     "output_type": "stream",
     "text": [
      "[[[ 0.  0.  0. ...,  0.  0.  0.]\n",
      "  [ 0.  0.  0. ...,  0.  0.  0.]\n",
      "  [ 0. -1. -1. ...,  0.  0.  0.]\n",
      "  ..., \n",
      "  [ 0.  1.  1. ...,  0.  0.  0.]\n",
      "  [ 0.  0.  0. ...,  0.  0.  0.]\n",
      "  [ 0.  0.  0. ...,  0.  0.  0.]]\n",
      "\n",
      " [[ 0.  0.  0. ...,  0.  0.  0.]\n",
      "  [-1. -1.  0. ..., -1. -1. -1.]\n",
      "  [ 0.  0.  0. ...,  0.  0.  0.]\n",
      "  ..., \n",
      "  [-1. -1. -1. ..., -1. -1. -1.]\n",
      "  [ 0.  0.  0. ...,  0.  0.  0.]\n",
      "  [ 0.  0.  0. ...,  0.  0.  0.]]]\n"
     ]
    }
   ],
   "source": [
    "print images[0]"
   ]
  },
  {
   "cell_type": "code",
   "execution_count": 42,
   "metadata": {},
   "outputs": [
    {
     "name": "stdout",
     "output_type": "stream",
     "text": [
      "-0.013428\n",
      "-2.0\n",
      "2.0\n"
     ]
    }
   ],
   "source": [
    "Z = (images[0,0,0]+2)/4 #shifting the data for one wire on one read out plane to be within 0 and 1\n",
    "\n",
    "i=0\n",
    "j=0\n",
    "k=0\n",
    "\n",
    "while i<2499 in images[i,j,k]:\n",
    "    while j<2 in images[i,j,k]:\n",
    "        while k<239 in images[i,j,k]:\n",
    "            images[i,j,k]=(images[i,j,k]+2)/4\n",
    "            \n",
    "\n",
    "print np.mean(images[0,0,0])\n",
    "print np.min(images[0,0,0])\n",
    "print np.max(images[0,0,0])\n"
   ]
  },
  {
   "cell_type": "code",
   "execution_count": null,
   "metadata": {
    "collapsed": true
   },
   "outputs": [],
   "source": []
  }
 ],
 "metadata": {
  "kernelspec": {
   "display_name": "Python 2",
   "language": "python",
   "name": "python2"
  },
  "language_info": {
   "codemirror_mode": {
    "name": "ipython",
    "version": 2
   },
   "file_extension": ".py",
   "mimetype": "text/x-python",
   "name": "python",
   "nbconvert_exporter": "python",
   "pygments_lexer": "ipython2",
   "version": "2.7.12"
  }
 },
 "nbformat": 4,
 "nbformat_minor": 2
}
